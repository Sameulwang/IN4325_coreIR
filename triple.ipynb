{
 "cells": [
  {
   "cell_type": "code",
   "execution_count": 1,
   "id": "d202ec0d",
   "metadata": {},
   "outputs": [],
   "source": [
    "import pandas as pd\n",
    "import numpy as np"
   ]
  },
  {
   "cell_type": "code",
   "execution_count": 2,
   "id": "09992b93",
   "metadata": {},
   "outputs": [],
   "source": [
    "#read triple dataset\n",
    "a=pd.read_csv('qidpidtriples.train.full.2.tsv',sep=\"\\t\",names=['qid','positive pid','negative pid'])"
   ]
  },
  {
   "cell_type": "code",
   "execution_count": 3,
   "id": "c01b8206",
   "metadata": {},
   "outputs": [],
   "source": [
    "#read topics datsaset and training dataset, then merge them according to the query content to get correct 'qid'\n",
    "topics=pd.read_csv('queries.train.tsv',sep='\\t',names=['qid','query'])\n",
    "train=pd.read_csv('train.csv')\n",
    "train=pd.merge(train,topics,on='query')"
   ]
  },
  {
   "cell_type": "code",
   "execution_count": 4,
   "id": "0cd04f6e",
   "metadata": {},
   "outputs": [],
   "source": [
    "#retrieve the pisitive pairs, drop duplicates and assign them with target=1\n",
    "b=a[['qid','positive pid']]\n",
    "b=b.drop_duplicates()\n",
    "b = b.reindex(columns=['qid', 'positive pid', 'target'],fill_value=1)\n",
    "b.columns=['qid','pid','target']"
   ]
  },
  {
   "cell_type": "code",
   "execution_count": 5,
   "id": "02ee53e0",
   "metadata": {},
   "outputs": [],
   "source": [
    "#retrieve the negative pairs, drop duplicates and assign them with target=0\n",
    "c=a[['qid','negative pid']]\n",
    "# c=c.drop_duplicates()\n",
    "c=c.reindex(columns=['qid','negative pid','target'],fill_value=0)\n",
    "c.columns=['qid','pid','target']\n",
    "c=c.sample(n=len(b)*10)"
   ]
  },
  {
   "cell_type": "code",
   "execution_count": 7,
   "id": "3027f520",
   "metadata": {},
   "outputs": [],
   "source": [
    "#concat b and c to get the pair dataset with both positive and negative labels\n",
    "z=pd.concat([b,c])"
   ]
  },
  {
   "cell_type": "code",
   "execution_count": 8,
   "id": "cfa304b4",
   "metadata": {},
   "outputs": [],
   "source": [
    "#assign 'features' to the collected pairs in dataset 'z'\n",
    "train=train[['qid_y','docid','features']]\n",
    "train.columns=['qid','pid','features']\n",
    "z=pd.merge(z,train,how='inner',on=['pid','qid'])\n",
    "#resort them by 'qid' to enable svm ranker\n",
    "z=z.sort_values(by=['qid'])"
   ]
  },
  {
   "cell_type": "code",
   "execution_count": 9,
   "id": "a612a955",
   "metadata": {},
   "outputs": [],
   "source": [
    "z=z.astype(str)\n",
    "with open('triples_train_1:100.txt','a') as f:    \n",
    "    #retrieve each feature in the list and output to the '.txt' file\n",
    "    for row in z.iterrows():\n",
    "        temp=row[-1].iloc[-1]\n",
    "        features=temp[1:-2].split()\n",
    "\n",
    "        line=\"\"+row[1].iloc[2]+\" qid:\"+row[1].iloc[0]+\" 1:\"+features[0]+\" 2:\"+features[1]+\" 3:\"+features[2]+\" #docid=\"+row[1].iloc[1]\n",
    "        f.writelines(line+\"\\n\")\n",
    "f.close()"
   ]
  },
  {
   "cell_type": "code",
   "execution_count": 10,
   "id": "034f6cbe",
   "metadata": {},
   "outputs": [
    {
     "data": {
      "text/html": [
       "<div>\n",
       "<style scoped>\n",
       "    .dataframe tbody tr th:only-of-type {\n",
       "        vertical-align: middle;\n",
       "    }\n",
       "\n",
       "    .dataframe tbody tr th {\n",
       "        vertical-align: top;\n",
       "    }\n",
       "\n",
       "    .dataframe thead th {\n",
       "        text-align: right;\n",
       "    }\n",
       "</style>\n",
       "<table border=\"1\" class=\"dataframe\">\n",
       "  <thead>\n",
       "    <tr style=\"text-align: right;\">\n",
       "      <th></th>\n",
       "      <th>0 qid:1037798 1:30.83513761 2:8.43367311 3:7.4452028 #docid=8760867</th>\n",
       "    </tr>\n",
       "  </thead>\n",
       "  <tbody>\n",
       "    <tr>\n",
       "      <th>0</th>\n",
       "      <td>2 qid:489204 1:38.86968948 2:12.3242036 3:10.6...</td>\n",
       "    </tr>\n",
       "    <tr>\n",
       "      <th>1</th>\n",
       "      <td>0 qid:1113437 1:23.34378542 2:7.72257158 3:6.6...</td>\n",
       "    </tr>\n",
       "    <tr>\n",
       "      <th>2</th>\n",
       "      <td>1 qid:130510 1:38.01684238 2:8.61596622 3:7.79...</td>\n",
       "    </tr>\n",
       "    <tr>\n",
       "      <th>3</th>\n",
       "      <td>3 qid:833860 1:28.75888371 2:14.27081652 3:12....</td>\n",
       "    </tr>\n",
       "    <tr>\n",
       "      <th>4</th>\n",
       "      <td>1 qid:87452 1:24.47173375 2:9.49079543 3:8.418...</td>\n",
       "    </tr>\n",
       "    <tr>\n",
       "      <th>...</th>\n",
       "      <td>...</td>\n",
       "    </tr>\n",
       "    <tr>\n",
       "      <th>362</th>\n",
       "      <td>3 qid:359349 1:33.4110283 2:5.58237347 3:4.869...</td>\n",
       "    </tr>\n",
       "    <tr>\n",
       "      <th>363</th>\n",
       "      <td>3 qid:131843 1:26.19674141 2:6.52329619 3:6.27...</td>\n",
       "    </tr>\n",
       "    <tr>\n",
       "      <th>364</th>\n",
       "      <td>0 qid:104861 1:38.02962441 2:11.07139086 3:9.4...</td>\n",
       "    </tr>\n",
       "    <tr>\n",
       "      <th>365</th>\n",
       "      <td>2 qid:130510 1:41.33946 2:8.61596622 3:7.79497...</td>\n",
       "    </tr>\n",
       "    <tr>\n",
       "      <th>366</th>\n",
       "      <td>0 qid:1117099 1:26.22202592 2:9.34909045 3:8.2...</td>\n",
       "    </tr>\n",
       "  </tbody>\n",
       "</table>\n",
       "<p>367 rows × 1 columns</p>\n",
       "</div>"
      ],
      "text/plain": [
       "    0 qid:1037798 1:30.83513761 2:8.43367311 3:7.4452028 #docid=8760867\n",
       "0    2 qid:489204 1:38.86968948 2:12.3242036 3:10.6...                 \n",
       "1    0 qid:1113437 1:23.34378542 2:7.72257158 3:6.6...                 \n",
       "2    1 qid:130510 1:38.01684238 2:8.61596622 3:7.79...                 \n",
       "3    3 qid:833860 1:28.75888371 2:14.27081652 3:12....                 \n",
       "4    1 qid:87452 1:24.47173375 2:9.49079543 3:8.418...                 \n",
       "..                                                 ...                 \n",
       "362  3 qid:359349 1:33.4110283 2:5.58237347 3:4.869...                 \n",
       "363  3 qid:131843 1:26.19674141 2:6.52329619 3:6.27...                 \n",
       "364  0 qid:104861 1:38.02962441 2:11.07139086 3:9.4...                 \n",
       "365  2 qid:130510 1:41.33946 2:8.61596622 3:7.79497...                 \n",
       "366  0 qid:1117099 1:26.22202592 2:9.34909045 3:8.2...                 \n",
       "\n",
       "[367 rows x 1 columns]"
      ]
     },
     "execution_count": 10,
     "metadata": {},
     "output_type": "execute_result"
    }
   ],
   "source": []
  },
  {
   "cell_type": "code",
   "execution_count": null,
   "id": "06795571",
   "metadata": {},
   "outputs": [],
   "source": []
  }
 ],
 "metadata": {
  "kernelspec": {
   "display_name": "Python 3 (ipykernel)",
   "language": "python",
   "name": "python3"
  },
  "language_info": {
   "codemirror_mode": {
    "name": "ipython",
    "version": 3
   },
   "file_extension": ".py",
   "mimetype": "text/x-python",
   "name": "python",
   "nbconvert_exporter": "python",
   "pygments_lexer": "ipython3",
   "version": "3.8.11"
  }
 },
 "nbformat": 4,
 "nbformat_minor": 5
}
